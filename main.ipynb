{
 "cells": [
  {
   "cell_type": "code",
   "execution_count": 18,
   "id": "6f9cde73",
   "metadata": {},
   "outputs": [],
   "source": [
    "import pandas as pd\n",
    "from countryinfo import CountryInfo\n",
    "import pycountry\n",
    "import en_vocabulary_anki as eva"
   ]
  },
  {
   "cell_type": "markdown",
   "id": "834cbc74",
   "metadata": {},
   "source": [
    "## Functions"
   ]
  },
  {
   "cell_type": "code",
   "execution_count": 19,
   "id": "e0bb51c0",
   "metadata": {},
   "outputs": [],
   "source": [
    "# Generate country code by alpha-2\n",
    "def generate_country_code(country):\n",
    "    try:\n",
    "        return CountryInfo(country).info()[\"ISO\"][\"alpha2\"]\n",
    "    except:\n",
    "        try: \n",
    "            return pycountry.countries.search_fuzzy(country)[0].alpha_2\n",
    "        except:\n",
    "            raise Exception(f\"Could not determine the country code for '{country}'\")\n",
    "\n",
    "# Create flashcards for countries and nationalities        \n",
    "def create_flashcards(df):\n",
    "    for row in df.itertuples():\n",
    "        country_ipa = \"\"\n",
    "        nationality_ipa = \"\"\n",
    "        country_code = \"\"\n",
    "        country_file_name = eva.create_word_pronunciation(row.English_Country)\n",
    "        nationality_file_name = eva.create_word_pronunciation(row.English_Nationality)\n",
    "\n",
    "        try:\n",
    "            country_ipa = eva.get_word_ipa(row.English_Country, slash=True)            \n",
    "        except Exception as e:\n",
    "            print(f\"Error getting IPA for country '{row.English_Country}': {e}\")\n",
    "\n",
    "        try:        \n",
    "            nationality_ipa = eva.get_word_ipa(row.English_Nationality, slash=True)\n",
    "        except Exception as e:\n",
    "            print(f\"Error getting IPA for nationality '{row.English_Nationality}': {e}\")\n",
    "\n",
    "        try:\n",
    "            country_code = generate_country_code(row.English_Country).lower()            \n",
    "        except Exception as e:\n",
    "            print(f\"Error getting country code '{country_code}': {e}\")            \n",
    "\n",
    "        eva.add_note(deckName=\"Idiomas::Ingles::Ingles-Pais-Nacionalidad\",\n",
    "            modelName=\"Ingles-Verbos-Irregulares\", \n",
    "            fields = {\n",
    "                \"Word\": row.Spanish_Country,\n",
    "                \"Text\": f\"Country<br>{{{{c1::{row.English_Country.lower()}}}}}<br>Nationality<br>{{{{c1::{row.English_Nationality.lower()}}}}}\",\n",
    "                \"Fonética\": f\"{country_ipa}<br>{nationality_ipa}\",\n",
    "                \"Imagen\": \"\",\n",
    "                \"Pronunciación\": f\"[sound:{country_file_name}]<br>[sound:{nationality_file_name}]\",\n",
    "            },\n",
    "            options = {\n",
    "                \"allowDuplicate\": False\n",
    "            },\n",
    "            picture={\n",
    "                \"url\": f\"https://flagcdn.com/w320/{country_code}.png\",\n",
    "                \"filename\": f\"{eva.generate_file_name(country_code)}.png\",                    \n",
    "                \"fields\": [\n",
    "                    \"Imagen\"\n",
    "                ]\n",
    "            })        \n",
    "        "
   ]
  },
  {
   "cell_type": "markdown",
   "id": "803b8df8",
   "metadata": {},
   "source": [
    "## Dataset Analysis"
   ]
  },
  {
   "cell_type": "code",
   "execution_count": 20,
   "id": "7ec33436",
   "metadata": {},
   "outputs": [
    {
     "data": {
      "text/html": [
       "<div>\n",
       "<style scoped>\n",
       "    .dataframe tbody tr th:only-of-type {\n",
       "        vertical-align: middle;\n",
       "    }\n",
       "\n",
       "    .dataframe tbody tr th {\n",
       "        vertical-align: top;\n",
       "    }\n",
       "\n",
       "    .dataframe thead th {\n",
       "        text-align: right;\n",
       "    }\n",
       "</style>\n",
       "<table border=\"1\" class=\"dataframe\">\n",
       "  <thead>\n",
       "    <tr style=\"text-align: right;\">\n",
       "      <th></th>\n",
       "      <th>Spanish_Country</th>\n",
       "      <th>English_Country</th>\n",
       "      <th>Spanish_Nationality</th>\n",
       "      <th>English_Nationality</th>\n",
       "    </tr>\n",
       "  </thead>\n",
       "  <tbody>\n",
       "    <tr>\n",
       "      <th>0</th>\n",
       "      <td>Afganistán</td>\n",
       "      <td>Afghanistan</td>\n",
       "      <td>afgano/a</td>\n",
       "      <td>Afghan</td>\n",
       "    </tr>\n",
       "    <tr>\n",
       "      <th>1</th>\n",
       "      <td>Albania</td>\n",
       "      <td>Albania</td>\n",
       "      <td>albanés/albanesa</td>\n",
       "      <td>Albanian</td>\n",
       "    </tr>\n",
       "    <tr>\n",
       "      <th>2</th>\n",
       "      <td>Alemania</td>\n",
       "      <td>Germany</td>\n",
       "      <td>alemán/alemana</td>\n",
       "      <td>German</td>\n",
       "    </tr>\n",
       "    <tr>\n",
       "      <th>3</th>\n",
       "      <td>Andorra</td>\n",
       "      <td>Andorra</td>\n",
       "      <td>andorrano/a</td>\n",
       "      <td>Andorran</td>\n",
       "    </tr>\n",
       "    <tr>\n",
       "      <th>4</th>\n",
       "      <td>Angola</td>\n",
       "      <td>Angola</td>\n",
       "      <td>angoleño/a</td>\n",
       "      <td>Angolan</td>\n",
       "    </tr>\n",
       "  </tbody>\n",
       "</table>\n",
       "</div>"
      ],
      "text/plain": [
       "  Spanish_Country English_Country Spanish_Nationality English_Nationality\n",
       "0      Afganistán     Afghanistan            afgano/a              Afghan\n",
       "1         Albania         Albania    albanés/albanesa            Albanian\n",
       "2        Alemania         Germany      alemán/alemana              German\n",
       "3         Andorra         Andorra         andorrano/a            Andorran\n",
       "4          Angola          Angola          angoleño/a             Angolan"
      ]
     },
     "execution_count": 20,
     "metadata": {},
     "output_type": "execute_result"
    }
   ],
   "source": [
    "df = pd.read_csv('paises_gpt.csv')\n",
    "df.head()"
   ]
  },
  {
   "cell_type": "code",
   "execution_count": 21,
   "id": "8be9d681",
   "metadata": {},
   "outputs": [
    {
     "name": "stdout",
     "output_type": "stream",
     "text": [
      "<class 'pandas.core.frame.DataFrame'>\n",
      "RangeIndex: 194 entries, 0 to 193\n",
      "Data columns (total 4 columns):\n",
      " #   Column               Non-Null Count  Dtype \n",
      "---  ------               --------------  ----- \n",
      " 0   Spanish_Country      194 non-null    object\n",
      " 1   English_Country      194 non-null    object\n",
      " 2   Spanish_Nationality  194 non-null    object\n",
      " 3   English_Nationality  194 non-null    object\n",
      "dtypes: object(4)\n",
      "memory usage: 6.2+ KB\n"
     ]
    }
   ],
   "source": [
    "df.info()"
   ]
  },
  {
   "cell_type": "code",
   "execution_count": 22,
   "id": "e2b46a4c",
   "metadata": {},
   "outputs": [
    {
     "data": {
      "text/html": [
       "<div>\n",
       "<style scoped>\n",
       "    .dataframe tbody tr th:only-of-type {\n",
       "        vertical-align: middle;\n",
       "    }\n",
       "\n",
       "    .dataframe tbody tr th {\n",
       "        vertical-align: top;\n",
       "    }\n",
       "\n",
       "    .dataframe thead th {\n",
       "        text-align: right;\n",
       "    }\n",
       "</style>\n",
       "<table border=\"1\" class=\"dataframe\">\n",
       "  <thead>\n",
       "    <tr style=\"text-align: right;\">\n",
       "      <th></th>\n",
       "      <th>Spanish_Country</th>\n",
       "      <th>English_Country</th>\n",
       "      <th>Spanish_Nationality</th>\n",
       "      <th>English_Nationality</th>\n",
       "    </tr>\n",
       "  </thead>\n",
       "  <tbody>\n",
       "    <tr>\n",
       "      <th>28</th>\n",
       "      <td>Burkina Faso</td>\n",
       "      <td>Burkina Faso</td>\n",
       "      <td>burkinés/burkinabé</td>\n",
       "      <td>Burkinabé</td>\n",
       "    </tr>\n",
       "    <tr>\n",
       "      <th>50</th>\n",
       "      <td>Dominica</td>\n",
       "      <td>Dominica</td>\n",
       "      <td>dominiqués/dominiqueña</td>\n",
       "      <td>Dominican (from Dominica)</td>\n",
       "    </tr>\n",
       "    <tr>\n",
       "      <th>76</th>\n",
       "      <td>Guinea-Bisáu</td>\n",
       "      <td>Guinea-Bissau</td>\n",
       "      <td>bisauguineano/a</td>\n",
       "      <td>Bissau-Guinean</td>\n",
       "    </tr>\n",
       "    <tr>\n",
       "      <th>97</th>\n",
       "      <td>Kiribati</td>\n",
       "      <td>Kiribati</td>\n",
       "      <td>kiribatiano/a</td>\n",
       "      <td>I-Kiribati</td>\n",
       "    </tr>\n",
       "    <tr>\n",
       "      <th>156</th>\n",
       "      <td>Santo Tomé y Príncipe</td>\n",
       "      <td>São Tomé and Príncipe</td>\n",
       "      <td>santomense</td>\n",
       "      <td>São Toméan</td>\n",
       "    </tr>\n",
       "    <tr>\n",
       "      <th>174</th>\n",
       "      <td>Timor Oriental</td>\n",
       "      <td>Timor-Leste</td>\n",
       "      <td>timorense</td>\n",
       "      <td>Timorese</td>\n",
       "    </tr>\n",
       "    <tr>\n",
       "      <th>186</th>\n",
       "      <td>Vanuatu</td>\n",
       "      <td>Vanuatu</td>\n",
       "      <td>vanuatuense</td>\n",
       "      <td>Ni-Vanuatu</td>\n",
       "    </tr>\n",
       "  </tbody>\n",
       "</table>\n",
       "</div>"
      ],
      "text/plain": [
       "           Spanish_Country        English_Country     Spanish_Nationality  \\\n",
       "28            Burkina Faso           Burkina Faso      burkinés/burkinabé   \n",
       "50                Dominica               Dominica  dominiqués/dominiqueña   \n",
       "76            Guinea-Bisáu          Guinea-Bissau         bisauguineano/a   \n",
       "97                Kiribati               Kiribati           kiribatiano/a   \n",
       "156  Santo Tomé y Príncipe  São Tomé and Príncipe              santomense   \n",
       "174         Timor Oriental            Timor-Leste               timorense   \n",
       "186                Vanuatu                Vanuatu             vanuatuense   \n",
       "\n",
       "           English_Nationality  \n",
       "28                   Burkinabé  \n",
       "50   Dominican (from Dominica)  \n",
       "76              Bissau-Guinean  \n",
       "97                  I-Kiribati  \n",
       "156                 São Toméan  \n",
       "174                   Timorese  \n",
       "186                 Ni-Vanuatu  "
      ]
     },
     "execution_count": 22,
     "metadata": {},
     "output_type": "execute_result"
    }
   ],
   "source": [
    "# Search for rows where 'English_Country' or 'English_Nationality' do not contain alphanumeric characters\n",
    "df[df['English_Country'].str.contains(r'[^a-zA-Z0-9\\s]') | df['English_Nationality'].str.contains(r'[^a-zA-Z0-9\\s]')]"
   ]
  },
  {
   "cell_type": "markdown",
   "id": "553b2986",
   "metadata": {},
   "source": [
    "## Create FlashCards with countries and nationalities"
   ]
  },
  {
   "cell_type": "code",
   "execution_count": 23,
   "id": "3f76671a",
   "metadata": {},
   "outputs": [
    {
     "name": "stdout",
     "output_type": "stream",
     "text": [
      "Error getting IPA for nationality 'Kazakhstani': The word doesn't exist\n",
      "Error getting IPA for nationality 'Kyrgyzstani': The word doesn't exist\n",
      "Error getting IPA for nationality 'I-Kiribati': The word doesn't exist\n",
      "Error getting IPA for nationality 'Palauan': The word doesn't exist\n",
      "Error getting IPA for nationality 'Sammarinese': The word doesn't exist\n",
      "Error getting IPA for nationality 'Tajikistani': The word doesn't exist\n",
      "Error getting IPA for country 'Timor-Leste': The word doesn't exist\n",
      "Error getting IPA for nationality 'Uzbekistani': The word doesn't exist\n",
      "Error getting IPA for nationality 'Ni-Vanuatu': The word doesn't exist\n"
     ]
    }
   ],
   "source": [
    "create_flashcards(df)"
   ]
  }
 ],
 "metadata": {
  "kernelspec": {
   "display_name": "env",
   "language": "python",
   "name": "python3"
  },
  "language_info": {
   "codemirror_mode": {
    "name": "ipython",
    "version": 3
   },
   "file_extension": ".py",
   "mimetype": "text/x-python",
   "name": "python",
   "nbconvert_exporter": "python",
   "pygments_lexer": "ipython3",
   "version": "3.13.5"
  }
 },
 "nbformat": 4,
 "nbformat_minor": 5
}
